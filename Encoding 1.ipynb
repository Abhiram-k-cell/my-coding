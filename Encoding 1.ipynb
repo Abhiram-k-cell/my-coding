{
 "cells": [
  {
   "cell_type": "code",
   "execution_count": 2,
   "id": "92d2f59e-95d2-4e73-83fb-32a32074ffe1",
   "metadata": {},
   "outputs": [],
   "source": [
    "import pandas as pd"
   ]
  },
  {
   "cell_type": "code",
   "execution_count": 3,
   "id": "b85726e5-60c9-49f5-bb01-4de6bc0ebe16",
   "metadata": {},
   "outputs": [],
   "source": [
    "import numpy as np"
   ]
  },
  {
   "cell_type": "code",
   "execution_count": 4,
   "id": "959d5021-a1af-439c-8a69-058431cd5669",
   "metadata": {},
   "outputs": [],
   "source": [
    "import matplotlib.pyplot as plt"
   ]
  },
  {
   "cell_type": "code",
   "execution_count": 5,
   "id": "561d46ea-9623-4b1d-88d9-a12f25ce153e",
   "metadata": {},
   "outputs": [],
   "source": [
    "import seaborn as sns"
   ]
  },
  {
   "cell_type": "code",
   "execution_count": 6,
   "id": "2153c16a-877e-498d-aa80-f5027ec549c6",
   "metadata": {},
   "outputs": [],
   "source": [
    "dfh = pd.read_csv(r\"C:\\Users\\LENOVO\\Desktop\\AI\\heart.csv\")"
   ]
  },
  {
   "cell_type": "code",
   "execution_count": 7,
   "id": "37a89d56-092f-4195-8e5d-df149403b783",
   "metadata": {},
   "outputs": [
    {
     "data": {
      "text/html": [
       "<div>\n",
       "<style scoped>\n",
       "    .dataframe tbody tr th:only-of-type {\n",
       "        vertical-align: middle;\n",
       "    }\n",
       "\n",
       "    .dataframe tbody tr th {\n",
       "        vertical-align: top;\n",
       "    }\n",
       "\n",
       "    .dataframe thead th {\n",
       "        text-align: right;\n",
       "    }\n",
       "</style>\n",
       "<table border=\"1\" class=\"dataframe\">\n",
       "  <thead>\n",
       "    <tr style=\"text-align: right;\">\n",
       "      <th></th>\n",
       "      <th>age</th>\n",
       "      <th>sex</th>\n",
       "      <th>cp</th>\n",
       "      <th>trestbps</th>\n",
       "      <th>chol</th>\n",
       "      <th>fbs</th>\n",
       "      <th>restecg</th>\n",
       "      <th>thalach</th>\n",
       "      <th>exang</th>\n",
       "      <th>oldpeak</th>\n",
       "      <th>slope</th>\n",
       "      <th>ca</th>\n",
       "      <th>thal</th>\n",
       "      <th>target</th>\n",
       "    </tr>\n",
       "  </thead>\n",
       "  <tbody>\n",
       "    <tr>\n",
       "      <th>0</th>\n",
       "      <td>52</td>\n",
       "      <td>1</td>\n",
       "      <td>0</td>\n",
       "      <td>125</td>\n",
       "      <td>212</td>\n",
       "      <td>0</td>\n",
       "      <td>1</td>\n",
       "      <td>168</td>\n",
       "      <td>0</td>\n",
       "      <td>1.0</td>\n",
       "      <td>2</td>\n",
       "      <td>2</td>\n",
       "      <td>3</td>\n",
       "      <td>0</td>\n",
       "    </tr>\n",
       "    <tr>\n",
       "      <th>1</th>\n",
       "      <td>53</td>\n",
       "      <td>1</td>\n",
       "      <td>0</td>\n",
       "      <td>140</td>\n",
       "      <td>203</td>\n",
       "      <td>1</td>\n",
       "      <td>0</td>\n",
       "      <td>155</td>\n",
       "      <td>1</td>\n",
       "      <td>3.1</td>\n",
       "      <td>0</td>\n",
       "      <td>0</td>\n",
       "      <td>3</td>\n",
       "      <td>0</td>\n",
       "    </tr>\n",
       "    <tr>\n",
       "      <th>2</th>\n",
       "      <td>70</td>\n",
       "      <td>1</td>\n",
       "      <td>0</td>\n",
       "      <td>145</td>\n",
       "      <td>174</td>\n",
       "      <td>0</td>\n",
       "      <td>1</td>\n",
       "      <td>125</td>\n",
       "      <td>1</td>\n",
       "      <td>2.6</td>\n",
       "      <td>0</td>\n",
       "      <td>0</td>\n",
       "      <td>3</td>\n",
       "      <td>0</td>\n",
       "    </tr>\n",
       "    <tr>\n",
       "      <th>3</th>\n",
       "      <td>61</td>\n",
       "      <td>1</td>\n",
       "      <td>0</td>\n",
       "      <td>148</td>\n",
       "      <td>203</td>\n",
       "      <td>0</td>\n",
       "      <td>1</td>\n",
       "      <td>161</td>\n",
       "      <td>0</td>\n",
       "      <td>0.0</td>\n",
       "      <td>2</td>\n",
       "      <td>1</td>\n",
       "      <td>3</td>\n",
       "      <td>0</td>\n",
       "    </tr>\n",
       "    <tr>\n",
       "      <th>4</th>\n",
       "      <td>62</td>\n",
       "      <td>0</td>\n",
       "      <td>0</td>\n",
       "      <td>138</td>\n",
       "      <td>294</td>\n",
       "      <td>1</td>\n",
       "      <td>1</td>\n",
       "      <td>106</td>\n",
       "      <td>0</td>\n",
       "      <td>1.9</td>\n",
       "      <td>1</td>\n",
       "      <td>3</td>\n",
       "      <td>2</td>\n",
       "      <td>0</td>\n",
       "    </tr>\n",
       "    <tr>\n",
       "      <th>...</th>\n",
       "      <td>...</td>\n",
       "      <td>...</td>\n",
       "      <td>...</td>\n",
       "      <td>...</td>\n",
       "      <td>...</td>\n",
       "      <td>...</td>\n",
       "      <td>...</td>\n",
       "      <td>...</td>\n",
       "      <td>...</td>\n",
       "      <td>...</td>\n",
       "      <td>...</td>\n",
       "      <td>...</td>\n",
       "      <td>...</td>\n",
       "      <td>...</td>\n",
       "    </tr>\n",
       "    <tr>\n",
       "      <th>1020</th>\n",
       "      <td>59</td>\n",
       "      <td>1</td>\n",
       "      <td>1</td>\n",
       "      <td>140</td>\n",
       "      <td>221</td>\n",
       "      <td>0</td>\n",
       "      <td>1</td>\n",
       "      <td>164</td>\n",
       "      <td>1</td>\n",
       "      <td>0.0</td>\n",
       "      <td>2</td>\n",
       "      <td>0</td>\n",
       "      <td>2</td>\n",
       "      <td>1</td>\n",
       "    </tr>\n",
       "    <tr>\n",
       "      <th>1021</th>\n",
       "      <td>60</td>\n",
       "      <td>1</td>\n",
       "      <td>0</td>\n",
       "      <td>125</td>\n",
       "      <td>258</td>\n",
       "      <td>0</td>\n",
       "      <td>0</td>\n",
       "      <td>141</td>\n",
       "      <td>1</td>\n",
       "      <td>2.8</td>\n",
       "      <td>1</td>\n",
       "      <td>1</td>\n",
       "      <td>3</td>\n",
       "      <td>0</td>\n",
       "    </tr>\n",
       "    <tr>\n",
       "      <th>1022</th>\n",
       "      <td>47</td>\n",
       "      <td>1</td>\n",
       "      <td>0</td>\n",
       "      <td>110</td>\n",
       "      <td>275</td>\n",
       "      <td>0</td>\n",
       "      <td>0</td>\n",
       "      <td>118</td>\n",
       "      <td>1</td>\n",
       "      <td>1.0</td>\n",
       "      <td>1</td>\n",
       "      <td>1</td>\n",
       "      <td>2</td>\n",
       "      <td>0</td>\n",
       "    </tr>\n",
       "    <tr>\n",
       "      <th>1023</th>\n",
       "      <td>50</td>\n",
       "      <td>0</td>\n",
       "      <td>0</td>\n",
       "      <td>110</td>\n",
       "      <td>254</td>\n",
       "      <td>0</td>\n",
       "      <td>0</td>\n",
       "      <td>159</td>\n",
       "      <td>0</td>\n",
       "      <td>0.0</td>\n",
       "      <td>2</td>\n",
       "      <td>0</td>\n",
       "      <td>2</td>\n",
       "      <td>1</td>\n",
       "    </tr>\n",
       "    <tr>\n",
       "      <th>1024</th>\n",
       "      <td>54</td>\n",
       "      <td>1</td>\n",
       "      <td>0</td>\n",
       "      <td>120</td>\n",
       "      <td>188</td>\n",
       "      <td>0</td>\n",
       "      <td>1</td>\n",
       "      <td>113</td>\n",
       "      <td>0</td>\n",
       "      <td>1.4</td>\n",
       "      <td>1</td>\n",
       "      <td>1</td>\n",
       "      <td>3</td>\n",
       "      <td>0</td>\n",
       "    </tr>\n",
       "  </tbody>\n",
       "</table>\n",
       "<p>1025 rows × 14 columns</p>\n",
       "</div>"
      ],
      "text/plain": [
       "      age  sex  cp  trestbps  chol  fbs  restecg  thalach  exang  oldpeak  \\\n",
       "0      52    1   0       125   212    0        1      168      0      1.0   \n",
       "1      53    1   0       140   203    1        0      155      1      3.1   \n",
       "2      70    1   0       145   174    0        1      125      1      2.6   \n",
       "3      61    1   0       148   203    0        1      161      0      0.0   \n",
       "4      62    0   0       138   294    1        1      106      0      1.9   \n",
       "...   ...  ...  ..       ...   ...  ...      ...      ...    ...      ...   \n",
       "1020   59    1   1       140   221    0        1      164      1      0.0   \n",
       "1021   60    1   0       125   258    0        0      141      1      2.8   \n",
       "1022   47    1   0       110   275    0        0      118      1      1.0   \n",
       "1023   50    0   0       110   254    0        0      159      0      0.0   \n",
       "1024   54    1   0       120   188    0        1      113      0      1.4   \n",
       "\n",
       "      slope  ca  thal  target  \n",
       "0         2   2     3       0  \n",
       "1         0   0     3       0  \n",
       "2         0   0     3       0  \n",
       "3         2   1     3       0  \n",
       "4         1   3     2       0  \n",
       "...     ...  ..   ...     ...  \n",
       "1020      2   0     2       1  \n",
       "1021      1   1     3       0  \n",
       "1022      1   1     2       0  \n",
       "1023      2   0     2       1  \n",
       "1024      1   1     3       0  \n",
       "\n",
       "[1025 rows x 14 columns]"
      ]
     },
     "execution_count": 7,
     "metadata": {},
     "output_type": "execute_result"
    }
   ],
   "source": [
    "dfh"
   ]
  },
  {
   "cell_type": "code",
   "execution_count": 9,
   "id": "c943b041-ec2f-4d77-b021-66e2284f00d4",
   "metadata": {},
   "outputs": [
    {
     "data": {
      "text/plain": [
       "age           int64\n",
       "sex           int64\n",
       "cp            int64\n",
       "trestbps      int64\n",
       "chol          int64\n",
       "fbs           int64\n",
       "restecg       int64\n",
       "thalach       int64\n",
       "exang         int64\n",
       "oldpeak     float64\n",
       "slope         int64\n",
       "ca            int64\n",
       "thal          int64\n",
       "target        int64\n",
       "dtype: object"
      ]
     },
     "execution_count": 9,
     "metadata": {},
     "output_type": "execute_result"
    }
   ],
   "source": [
    "dfh.dtypes"
   ]
  },
  {
   "cell_type": "code",
   "execution_count": 10,
   "id": "7bc4c1c6-d2f2-4285-8c09-9e1a11fa5473",
   "metadata": {},
   "outputs": [
    {
     "data": {
      "text/plain": [
       "Index(['age', 'sex', 'cp', 'trestbps', 'chol', 'fbs', 'restecg', 'thalach',\n",
       "       'exang', 'oldpeak', 'slope', 'ca', 'thal', 'target'],\n",
       "      dtype='object')"
      ]
     },
     "execution_count": 10,
     "metadata": {},
     "output_type": "execute_result"
    }
   ],
   "source": [
    "dfh.columns"
   ]
  },
  {
   "cell_type": "code",
   "execution_count": 11,
   "id": "ded58067-6d46-4034-9b3a-ade6090a1a80",
   "metadata": {},
   "outputs": [
    {
     "data": {
      "image/png": "[encoded data removed]",
      "text/plain": [
       "<Figure size 640x480 with 1 Axes>"
      ]
     },
     "metadata": {},
     "output_type": "display_data"
    }
   ],
   "source": [
    "sns.boxplot(dfh)\n",
    "plt.xticks(rotation = 45)\n",
    "plt.show()"
   ]
  },
  {
   "cell_type": "code",
   "execution_count": 12,
   "id": "1814b937-92ba-4ffb-b9d8-5ee7a5eeb40e",
   "metadata": {},
   "outputs": [
    {
     "data": {
      "text/plain": [
       "Index(['age', 'sex', 'cp', 'trestbps', 'chol', 'fbs', 'restecg', 'thalach',\n",
       "       'exang', 'oldpeak', 'slope', 'ca', 'thal', 'target'],\n",
       "      dtype='object')"
      ]
     },
     "execution_count": 12,
     "metadata": {},
     "output_type": "execute_result"
    }
   ],
   "source": [
    "dfh.columns"
   ]
  },
  {
   "cell_type": "code",
   "execution_count": 13,
   "id": "684cfd58-8a66-4b8c-88b1-06ec53c7e406",
   "metadata": {},
   "outputs": [],
   "source": [
    "cols = ['trestbps', 'chol', 'fbs','thalach',\n",
    "       'oldpeak','ca', 'thal']"
   ]
  },
  {
   "cell_type": "code",
   "execution_count": 14,
   "id": "ba8018c9-7186-49c1-b492-ed64bf0fb0ab",
   "metadata": {},
   "outputs": [
    {
     "data": {
      "text/plain": [
       "['trestbps', 'chol', 'fbs', 'thalach', 'oldpeak', 'ca', 'thal']"
      ]
     },
     "execution_count": 14,
     "metadata": {},
     "output_type": "execute_result"
    }
   ],
   "source": [
    "cols"
   ]
  },
  {
   "cell_type": "code",
   "execution_count": 15,
   "id": "275dd12a-bceb-411e-bd2e-02cb68e7ab04",
   "metadata": {},
   "outputs": [],
   "source": [
    "import time"
   ]
  },
  {
   "cell_type": "code",
   "execution_count": 16,
   "id": "b9fb6eec-d13f-4f35-a737-2ff66c2a8fc9",
   "metadata": {},
   "outputs": [
    {
     "name": "stdout",
     "output_type": "stream",
     "text": [
      "trestbps\n",
      "chol\n",
      "fbs\n",
      "thalach\n",
      "oldpeak\n",
      "ca\n",
      "thal\n"
     ]
    }
   ],
   "source": [
    "for c in cols :\n",
    "    print(c)\n",
    "    time.sleep(0.2)"
   ]
  },
  {
   "cell_type": "code",
   "execution_count": 23,
   "id": "f9ba7dd0-2412-4102-9801-f36dbce5ffb7",
   "metadata": {},
   "outputs": [
    {
     "name": "stdout",
     "output_type": "stream",
     "text": [
      "0       125.0\n",
      "1       140.0\n",
      "2       145.0\n",
      "3       148.0\n",
      "4       138.0\n",
      "        ...  \n",
      "1020    140.0\n",
      "1021    125.0\n",
      "1022    110.0\n",
      "1023    110.0\n",
      "1024    120.0\n",
      "Name: trestbps, Length: 1025, dtype: float64\n",
      "0       212.0\n",
      "1       203.0\n",
      "2       174.0\n",
      "3       203.0\n",
      "4       294.0\n",
      "        ...  \n",
      "1020    221.0\n",
      "1021    258.0\n",
      "1022    275.0\n",
      "1023    254.0\n",
      "1024    188.0\n",
      "Name: chol, Length: 1025, dtype: float64\n",
      "0       0.0\n",
      "1       0.0\n",
      "2       0.0\n",
      "3       0.0\n",
      "4       0.0\n",
      "       ... \n",
      "1020    0.0\n",
      "1021    0.0\n",
      "1022    0.0\n",
      "1023    0.0\n",
      "1024    0.0\n",
      "Name: fbs, Length: 1025, dtype: float64\n",
      "0       168.0\n",
      "1       155.0\n",
      "2       125.0\n",
      "3       161.0\n",
      "4       106.0\n",
      "        ...  \n",
      "1020    164.0\n",
      "1021    141.0\n",
      "1022    118.0\n",
      "1023    159.0\n",
      "1024    113.0\n",
      "Name: thalach, Length: 1025, dtype: float64\n",
      "0       1.0\n",
      "1       3.1\n",
      "2       2.6\n",
      "3       0.0\n",
      "4       1.9\n",
      "       ... \n",
      "1020    0.0\n",
      "1021    2.8\n",
      "1022    1.0\n",
      "1023    0.0\n",
      "1024    1.4\n",
      "Name: oldpeak, Length: 1025, dtype: float64\n",
      "0       2.0\n",
      "1       0.0\n",
      "2       0.0\n",
      "3       1.0\n",
      "4       2.5\n",
      "       ... \n",
      "1020    0.0\n",
      "1021    1.0\n",
      "1022    1.0\n",
      "1023    0.0\n",
      "1024    1.0\n",
      "Name: ca, Length: 1025, dtype: float64\n",
      "0       3.0\n",
      "1       3.0\n",
      "2       3.0\n",
      "3       3.0\n",
      "4       2.0\n",
      "       ... \n",
      "1020    2.0\n",
      "1021    3.0\n",
      "1022    2.0\n",
      "1023    2.0\n",
      "1024    3.0\n",
      "Name: thal, Length: 1025, dtype: float64\n"
     ]
    }
   ],
   "source": [
    "for c in cols :\n",
    "    print(dfh[c])\n",
    "    time.sleep(0.5)"
   ]
  },
  {
   "cell_type": "code",
   "execution_count": 24,
   "id": "22e7f7fe-4ef1-4e12-9eb2-3112ed5d8cd5",
   "metadata": {},
   "outputs": [
    {
     "name": "stdout",
     "output_type": "stream",
     "text": [
      "Normal Distibution\n",
      "trestbps==>0.0\n",
      "Normal Distibution\n",
      "chol==>0.0\n",
      "Normal Distibution\n",
      "fbs==>0.0\n",
      "Normal Distibution\n",
      "thalach==>-0.0\n",
      "Skewed Distibution\n",
      "oldpeak==>1.0\n",
      "Skewed Distibution\n",
      "ca==>1.0\n",
      "Normal Distibution\n",
      "thal==>-0.0\n"
     ]
    }
   ],
   "source": [
    "for c in cols :\n",
    "    sk = dfh[c].skew().round()\n",
    "    if sk == 0 or sk == -0:\n",
    "        print(\"Normal Distibution\")\n",
    "    else:\n",
    "        print(\"Skewed Distibution\")\n",
    "\n",
    "    print(c, end = \"==>\")\n",
    "    print(sk)\n",
    "    time.sleep(0.5)"
   ]
  },
  {
   "cell_type": "code",
   "execution_count": 25,
   "id": "830da39e-a61b-4d8c-aeb7-329de5082de4",
   "metadata": {},
   "outputs": [],
   "source": [
    "for c in cols :\n",
    "    sk = dfh[c].skew().round()\n",
    "    if sk == 0 or sk == -0:\n",
    "        m = dfh[c].mean()\n",
    "        s = dfh[c].std()\n",
    "        lowerlimit = m - 3 * s\n",
    "        upperlimit = m + 3 * s\n",
    "        dfh[c] = dfh[c].map(lambda x : lower if x < lowerlimit else upper if x > upperlimit else x )\n",
    "    else:\n",
    "        q1 = dfh[c].quantile(0.25)\n",
    "        q3 = dfh[c].quantile(0.75)\n",
    "        iqr = q3 - q1\n",
    "        lower = q1 - (1.5*iqr)\n",
    "        upper = q3 + (1.5*iqr)\n",
    "        dfh[c] = dfh[c].map(lambda x : lower if x < lower else upper if x > upper else x)\n",
    "    time.sleep(0.5)"
   ]
  },
  {
   "cell_type": "code",
   "execution_count": 26,
   "id": "9974d4f5-fdde-4e98-ac5b-9bbe537a8cfd",
   "metadata": {},
   "outputs": [
    {
     "data": {
      "image/png": "[encoded data removed]",
      "text/plain": [
       "<Figure size 640x480 with 1 Axes>"
      ]
     },
     "metadata": {},
     "output_type": "display_data"
    }
   ],
   "source": [
    "sns.boxplot(dfh)\n",
    "plt.xticks(rotation = 30)\n",
    "plt.show()"
   ]
  },
  {
   "cell_type": "code",
   "execution_count": null,
   "id": "b2303416-5c47-4a63-a2b7-d8db3b73b4de",
   "metadata": {},
   "outputs": [],
   "source": [
    "    "
   ]
  }
 ],
 "metadata": {
  "kernelspec": {
   "display_name": "Python 3 (ipykernel)",
   "language": "python",
   "name": "python3"
  },
  "language_info": {
   "codemirror_mode": {
    "name": "ipython",
    "version": 3
   },
   "file_extension": ".py",
   "mimetype": "text/x-python",
   "name": "python",
   "nbconvert_exporter": "python",
   "pygments_lexer": "ipython3",
   "version": "3.11.7"
  }
 },
 "nbformat": 4,
 "nbformat_minor": 5
}
